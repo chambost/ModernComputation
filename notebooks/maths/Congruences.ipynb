{
 "cells": [
  {
   "cell_type": "markdown",
   "metadata": {},
   "source": [
    "# Congruences\n",
    "In this notebook, we show how $a \\pmod M$ is computed and what it means for an equation for a line."
   ]
  },
  {
   "cell_type": "code",
   "execution_count": 3,
   "metadata": {
    "collapsed": true
   },
   "outputs": [],
   "source": [
    "#define our numbers\n",
    "a = 21\n",
    "M = 17\n",
    "b = 38"
   ]
  },
  {
   "cell_type": "code",
   "execution_count": 4,
   "metadata": {
    "collapsed": false
   },
   "outputs": [
    {
     "name": "stdout",
     "output_type": "stream",
     "text": [
      "The remainder: 4\n",
      "a mod M: 4\n"
     ]
    }
   ],
   "source": [
    "#compute the remainder\n",
    "r1 = a - M\n",
    "r2 = a%M\n",
    "print(\"The remainder:\", r1)\n",
    "print(\"a mod M:\", r2)"
   ]
  },
  {
   "cell_type": "markdown",
   "metadata": {},
   "source": [
    "Consider a line $y\\equiv mx + t \\pmod M$, its just  like a line $y=mx+t$ but has a geometric interpretation of a \"wrap around\" in two dimensions. Let's compute the coordinates and plot the line to see it. We will use the numpy library to do this efficiently with arrays."
   ]
  },
  {
   "cell_type": "code",
   "execution_count": 24,
   "metadata": {
    "collapsed": true
   },
   "outputs": [],
   "source": [
    "import numpy as np\n",
    "\n",
    "M = 37\n",
    "N = M #size of our array\n",
    "m = 3 #slope of line\n",
    "x = np.arange(0, N) # x coordinates\n",
    "t = 0 #y-intercept\n",
    "\n",
    "#compute y coordinates\n",
    "x %= M\n",
    "y = (m*x + t)%M"
   ]
  },
  {
   "cell_type": "code",
   "execution_count": 25,
   "metadata": {
    "collapsed": false
   },
   "outputs": [
    {
     "data": {
      "image/png": "[encoded data removed]",
      "text/plain": [
       "<matplotlib.figure.Figure at 0x1a5fc345780>"
      ]
     },
     "metadata": {},
     "output_type": "display_data"
    }
   ],
   "source": [
    "#plot line\n",
    "import matplotlib.pyplot as plt\n",
    "\n",
    "plt.plot(x,y, 'r.') #plot as red dots\n",
    "plt.show()"
   ]
  },
  {
   "cell_type": "markdown",
   "metadata": {},
   "source": [
    "This is difficult to comprehend, so let us draw it as an image so that the coordinates are pixel locations"
   ]
  },
  {
   "cell_type": "code",
   "execution_count": 28,
   "metadata": {
    "collapsed": false
   },
   "outputs": [
    {
     "name": "stdout",
     "output_type": "stream",
     "text": [
      "(37, 37)\n"
     ]
    },
    {
     "data": {
      "image/png": "[encoded data removed]",
      "text/plain": [
       "<matplotlib.figure.Figure at 0x1a5fc3f8748>"
      ]
     },
     "metadata": {},
     "output_type": "display_data"
    }
   ],
   "source": [
    "#create image\n",
    "image = np.zeros((N,N)) #(N,N) is the size as a tuple\n",
    "print(image.shape)\n",
    "\n",
    "for i, j in zip(x, y):\n",
    "    #print(i, j)\n",
    "    image[i,j] = 1\n",
    "    \n",
    "plt.imshow(image)\n",
    "plt.show()"
   ]
  },
  {
   "cell_type": "markdown",
   "metadata": {},
   "source": [
    "We can see that we get a periodic discrete line (a line with integer only coordinates) that wrap around the image. Chandra et al. have showed that these types of lines [can generate fractals](https://shakes76.github.io/ChaoS/)!"
   ]
  },
  {
   "cell_type": "code",
   "execution_count": null,
   "metadata": {
    "collapsed": true
   },
   "outputs": [],
   "source": []
  }
 ],
 "metadata": {
  "kernelspec": {
   "display_name": "Python 3",
   "language": "python",
   "name": "python3"
  },
  "language_info": {
   "codemirror_mode": {
    "name": "ipython",
    "version": 3
   },
   "file_extension": ".py",
   "mimetype": "text/x-python",
   "name": "python",
   "nbconvert_exporter": "python",
   "pygments_lexer": "ipython3",
   "version": "3.5.3"
  }
 },
 "nbformat": 4,
 "nbformat_minor": 2
}
