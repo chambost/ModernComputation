{
 "cells": [
  {
   "cell_type": "markdown",
   "metadata": {},
   "source": [
    "# Cellular Automata\n",
    "We will begin exploring this topic by following in the footsteps of Stephen Wolfram, the creator of Mathematica, in discovering chaos within simple systems based on cells and rules that govern their interaction. In his [elementary cellular automation](https://en.wikipedia.org/wiki/Elementary_cellular_automaton), a 1D set of cells evolve to the next generation based solely on the current state of each cell and rules based on its neighbours."
   ]
  },
  {
   "cell_type": "markdown",
   "metadata": {},
   "source": [
    "We begin by defining a 1D array to represent the current state of cells and then the rules that evolve the cells to the next generation based on neighbours."
   ]
  },
  {
   "cell_type": "code",
   "execution_count": 87,
   "metadata": {
    "collapsed": true
   },
   "outputs": [],
   "source": [
    "import numpy as np\n",
    "\n",
    "iterations = 120 # total iterations to compute\n",
    "N = 3 #initial size\n",
    "cells = np.zeros(N)\n",
    "cells[int(N/2)] = 1 #start point in middle"
   ]
  },
  {
   "cell_type": "markdown",
   "metadata": {},
   "source": [
    "We define the rules for the automation ([Rule 30](https://en.wikipedia.org/wiki/Rule_30)) as a dictionary for lookup. We use a string system to conform to the notation used in the literature."
   ]
  },
  {
   "cell_type": "code",
   "execution_count": 88,
   "metadata": {
    "collapsed": true
   },
   "outputs": [],
   "source": [
    "rules = {\"111\": '0', \"110\": '0', \"101\": '0', \"000\": '0',\"100\": '1', \"011\": '1', \"010\": '1', \"001\": '1'}"
   ]
  },
  {
   "cell_type": "markdown",
   "metadata": {},
   "source": [
    "For every cell, apply the rules to create the next generation."
   ]
  },
  {
   "cell_type": "code",
   "execution_count": 89,
   "metadata": {
    "collapsed": false
   },
   "outputs": [],
   "source": [
    "def evolveCells(cells, rules):\n",
    "    '''\n",
    "    Compute a single iteration elementary cellular automation given the rules provided.\n",
    "    Rules are assumed to be a binary string dictionary.\n",
    "    '''\n",
    "    N = cells.size\n",
    "    M = N+2\n",
    "    new_cells = np.zeros(M) #assume the cells grow\n",
    "    pad_cells = np.zeros(M) #assume the cells grow\n",
    "    pad_cells[1:M-1] = cells\n",
    "    #print(new_cells)\n",
    "    for index, cell in enumerate(cells):\n",
    "        pad_index = index+1 #refer to position of cell index in new_cell array\n",
    "        #convert neighbour to binary string\n",
    "        neighbourhood = \"\"\n",
    "        if pad_cells[pad_index-1] == 1:\n",
    "            neighbourhood += '1'\n",
    "        else:\n",
    "            neighbourhood += '0'\n",
    "        if pad_cells[pad_index] == 1:\n",
    "            neighbourhood += '1'\n",
    "        else:\n",
    "            neighbourhood += '0'\n",
    "        if pad_cells[pad_index+1] == 1:\n",
    "            neighbourhood += '1'\n",
    "        else:\n",
    "            neighbourhood += '0'\n",
    "        #print(neighbourhood)\n",
    "        #determine new state of current cell\n",
    "        new_state = rules[neighbourhood]\n",
    "        #print(new_state)\n",
    "        #apply state\n",
    "        if new_state == '1':\n",
    "            new_cells[pad_index] = 1\n",
    "        else:\n",
    "            new_cells[pad_index] = 0\n",
    "            \n",
    "    return new_cells"
   ]
  },
  {
   "cell_type": "code",
   "execution_count": 90,
   "metadata": {
    "collapsed": false
   },
   "outputs": [],
   "source": [
    "states = [] #save each state compute, not efficient but simple\n",
    "maxLength = -1\n",
    "for iteration in range(iterations):\n",
    "    new_cells = evolveCells(cells, rules)\n",
    "    cells = new_cells\n",
    "    states.append(cells)\n",
    "    if maxLength < cells.size:\n",
    "        maxLength = cells.size\n",
    "    #print(cells)"
   ]
  },
  {
   "cell_type": "code",
   "execution_count": 92,
   "metadata": {
    "collapsed": false
   },
   "outputs": [
    {
     "data": {
      "image/png": "[encoded data removed]",
      "text/plain": [
       "<matplotlib.figure.Figure at 0x1c0fa016668>"
      ]
     },
     "metadata": {},
     "output_type": "display_data"
    }
   ],
   "source": [
    "import seaborn as sns\n",
    "import matplotlib.pyplot as plt\n",
    "\n",
    "sns.set(style=\"white\")\n",
    "\n",
    "n = len(states)\n",
    "lattice = np.zeros((n,maxLength))\n",
    "for index, state in enumerate(states):\n",
    "    #copy each state to the center of the row in lattice used for plot\n",
    "    left_bound = int(maxLength/2)-int(state.size/2)\n",
    "    right_bound = int(maxLength/2)+int(state.size/2)+1\n",
    "    lattice[index, left_bound:right_bound] = state\n",
    "    \n",
    "# Set up the matplotlib figure\n",
    "f, ax = plt.subplots(figsize=(24, 8))\n",
    "\n",
    "# Generate a custom diverging colormap\n",
    "cmap = sns.diverging_palette(220, 10, as_cmap=True)\n",
    "\n",
    "# Draw the heatmap with the mask and correct aspect ratio\n",
    "sns.heatmap(lattice, cmap=cmap, center=0, square=True, linewidths=.01, cbar_kws={\"shrink\": .25})\n",
    "\n",
    "plt.axis('off')\n",
    "plt.show()"
   ]
  },
  {
   "cell_type": "code",
   "execution_count": null,
   "metadata": {
    "collapsed": true
   },
   "outputs": [],
   "source": []
  }
 ],
 "metadata": {
  "kernelspec": {
   "display_name": "Python 3",
   "language": "python",
   "name": "python3"
  },
  "language_info": {
   "codemirror_mode": {
    "name": "ipython",
    "version": 3
   },
   "file_extension": ".py",
   "mimetype": "text/x-python",
   "name": "python",
   "nbconvert_exporter": "python",
   "pygments_lexer": "ipython3",
   "version": "3.5.3"
  }
 },
 "nbformat": 4,
 "nbformat_minor": 2
}
