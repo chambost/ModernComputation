{
 "cells": [
  {
   "cell_type": "markdown",
   "metadata": {},
   "source": [
    "# Y Combinator - Recursion\n",
    "Having developed numerals, Boolean algebra and arithmetic for $\\lambda$-Calculus, the only element remaining to make it Turing complete is infinite loops. We can achieve this through recursion.\n",
    "\n",
    "First, let's define what we had previously through our other notebook on Church encoding, namely numerals, Boolean algebra, arithmetic and a conditional statement to check if zero."
   ]
  },
  {
   "cell_type": "code",
   "execution_count": 23,
   "metadata": {},
   "outputs": [],
   "source": [
    "#Booleans\n",
    "T = lambda t: lambda f: t\n",
    "F = lambda t: lambda f: f\n",
    "\n",
    "#use annotations to tell what function is returned in verifying the result\n",
    "T.__annotations__['T'] = True\n",
    "F.__annotations__['F'] = False\n",
    "\n",
    "#also can tell by converting to Python bool type, cheating a bit though\n",
    "to_bool = lambda boolean: boolean(True)(False)\n",
    "\n",
    "#Boolean algebra\n",
    "NOT = lambda boolean: boolean(F)(T)\n",
    "AND = lambda bool1: lambda bool2: bool1(bool2)(F)\n",
    "OR = lambda bool1: lambda bool2: bool1(bool1)(bool2)"
   ]
  },
  {
   "cell_type": "code",
   "execution_count": 24,
   "metadata": {},
   "outputs": [],
   "source": [
    "#Numerals\n",
    "#identity\n",
    "I = lambda x: x\n",
    "\n",
    "#numerals\n",
    "N0 = lambda f: lambda x: x\n",
    "N1 = lambda f: lambda x: f(x)\n",
    "N2 = lambda f: lambda x: f(f(x))\n",
    "N3 = lambda f: lambda x: f(f(f(x)))\n",
    "N4 = lambda f: lambda x: f(f(f(f(x))))\n",
    "\n",
    "#use annotations to tell what function is returned in verifying the result\n",
    "I.__annotations__['I'] = \"I\"\n",
    "N0.__annotations__['0'] = 0\n",
    "N1.__annotations__['1'] = 1\n",
    "N2.__annotations__['2'] = 2\n",
    "N3.__annotations__['3'] = 3\n",
    "N4.__annotations__['4'] = 4\n",
    "\n",
    "#also by converting to Python int type by counting function calls\n",
    "#we pass the increment function into the numeral to count the calls\n",
    "to_int = lambda n: n(lambda integer: integer + 1)(0)"
   ]
  },
  {
   "cell_type": "code",
   "execution_count": 25,
   "metadata": {},
   "outputs": [],
   "source": [
    "#Arithmetic\n",
    "#Count\n",
    "S = lambda n: lambda f: lambda x: f(n(f)(x))\n",
    "ADDS = lambda m: lambda n: lambda f: lambda x: m(S)(n)(f)(x)\n",
    "MUL = lambda m: lambda n: lambda f: lambda x: m(n(f))(x)\n",
    "POW = lambda m: lambda n: lambda f: lambda x: S(n)(m(f))(x)"
   ]
  },
  {
   "cell_type": "code",
   "execution_count": 26,
   "metadata": {},
   "outputs": [],
   "source": [
    "#check for zero\n",
    "Z = lambda x: x(lambda x: F)(T)"
   ]
  },
  {
   "cell_type": "markdown",
   "metadata": {},
   "source": [
    "## Combinators"
   ]
  },
  {
   "cell_type": "markdown",
   "metadata": {},
   "source": [
    "Just as for Boolean algebra and linear algebra, where we define a minimal set of operators that can replicate all of the operations necessary in that system, we can define a non-redundant or minimal set of combinators, i.e. $\\lambda$ expressions without free variables that combine arguments in different ways. \n",
    "\n",
    "In this way, we can use combinators as the atoms of $\\lambda$-Calculus and problem can be solved or algorithms constructed like molecules from these atomic structures just as atoms from the periodic table in chemistry. This modular approach was pioneered by Haskell Curry and he provided distinct names for these expressions and reformulated $\\lambda$-Calculus based on them.\n",
    "\n",
    "More information can be found in the $\\lambda$-Calculus chapter of the book."
   ]
  },
  {
   "cell_type": "markdown",
   "metadata": {},
   "source": [
    "## Self Application"
   ]
  },
  {
   "cell_type": "markdown",
   "metadata": {},
   "source": [
    "The surprising result is that in a system where only unary, pure functions exist, we can still create the notion of recursion using the Mockingbird combinator $\\mathcal{M}$ as a starting point\n",
    "\n",
    "$$\\mathcal{M} := \\lambda f.\\ ff$$\n",
    "We can actually redefine OR to reuse the Mockingbird, noting the slightly alternative definition above from the previous notebook."
   ]
  },
  {
   "cell_type": "code",
   "execution_count": 27,
   "metadata": {},
   "outputs": [],
   "source": [
    "M = lambda f: f(f)\n",
    "ORM = lambda bool1: lambda bool2: M(bool1)(bool2)"
   ]
  },
  {
   "cell_type": "code",
   "execution_count": 31,
   "metadata": {
    "scrolled": true
   },
   "outputs": [
    {
     "data": {
      "text/plain": [
       "{'T': True}"
      ]
     },
     "execution_count": 31,
     "metadata": {},
     "output_type": "execute_result"
    }
   ],
   "source": [
    "OR(F)(T).__annotations__"
   ]
  },
  {
   "cell_type": "code",
   "execution_count": 32,
   "metadata": {},
   "outputs": [
    {
     "data": {
      "text/plain": [
       "{'T': True}"
      ]
     },
     "execution_count": 32,
     "metadata": {},
     "output_type": "execute_result"
    }
   ],
   "source": [
    "ORM(F)(T).__annotations__"
   ]
  },
  {
   "cell_type": "markdown",
   "metadata": {},
   "source": [
    "We can see the initial signs of recursion (and indeed the halting problem) when we try to self apply the Mockingbird to itself"
   ]
  },
  {
   "cell_type": "code",
   "execution_count": 35,
   "metadata": {},
   "outputs": [
    {
     "name": "stdout",
     "output_type": "stream",
     "text": [
      "maximum recursion depth exceeded\n"
     ]
    }
   ],
   "source": [
    "try:\n",
    "    M(M)\n",
    "except RuntimeError as err:\n",
    "    print(err)"
   ]
  },
  {
   "cell_type": "markdown",
   "metadata": {},
   "source": [
    "But we need something more useful including passing our own function and handling stopping conditions to prevent stack overflows. What we need is a recursive combinator that takes in a function $f$, but calls $f$ again with the recursive combinator only if the base condition is not satisfied. If the base condition is satisfied, we would like to stop calling it itself and allow $\\beta$ reduction. This is exactly what the $\\mathcal{Y}$ combinator allows us to do and is defined as\n",
    "$$\n",
    "\\mathcal{Y}   := \\lambda f.\\ (\\lambda x.\\ f(xx))(\\lambda x.\\ f(xx))\n",
    "$$\n",
    "which can also be written in terms of the Mockingbird\n",
    "$$\n",
    "\\mathcal{Y}   := \\lambda f.\\ \\mathcal{M}(\\lambda x.\\ f(\\mathcal{M}x))\n",
    "$$\n",
    "We can see how this might work from a top level $\\beta$ reduction involving some combinator $\\mathcal{R}$ as\n",
    "\\begin{align}\n",
    " \\mathcal{Y}\\mathcal{R}   &= (\\lambda f.\\ (\\lambda x.\\ f(xx))(\\lambda x.\\ f(xx)))\\mathcal{R}\\\\\n",
    "                    &= (\\lambda x.\\ \\mathcal{R}(xx))(\\lambda x.\\ \\mathcal{R}(xx))\\nonumber\\\\\n",
    "                    &= \\mathcal{R}((\\lambda x.\\ \\mathcal{R}(xx))(\\lambda x.\\ \\mathcal{R}(xx)))\\nonumber\\\\\n",
    "                    &= \\mathcal{R}(\\mathcal{Y}\\mathcal{R})\n",
    "\\end{align}\n",
    "To demonstrate this amazing structure in a practical sense, we will show how to build the factorial function $n!$ for the number $n$. Consider the recursive form of the factorial function\n",
    "\\begin{align}\n",
    " n! = \n",
    "    \\begin{cases}\n",
    "    1,          &\\textrm{if } n=0\\\\\n",
    "    n(n-1)!,    &\\textrm{for } n>0.\n",
    "    \\end{cases}\n",
    "\\end{align}\n",
    "In standard procedural Python we might write it as"
   ]
  },
  {
   "cell_type": "code",
   "execution_count": 37,
   "metadata": {},
   "outputs": [],
   "source": [
    "def fac(n):\n",
    "    '''\n",
    "    Recursive factorial function\n",
    "    '''\n",
    "    if n == 0:\n",
    "        return 1\n",
    "    return n*fac(n-1)"
   ]
  },
  {
   "cell_type": "code",
   "execution_count": 38,
   "metadata": {},
   "outputs": [
    {
     "data": {
      "text/plain": [
       "120"
      ]
     },
     "execution_count": 38,
     "metadata": {},
     "output_type": "execute_result"
    }
   ],
   "source": [
    "fac(5)"
   ]
  },
  {
   "cell_type": "markdown",
   "metadata": {},
   "source": [
    "We can attempt to convert the above procedural function directly to $\\lambda$-Calculus for which we might (incorrectly) write\n",
    "\\begin{equation}\n",
    " \\textrm{FAC} = \\lambda n.\\ \\textrm{if } \\textrm{Z}(n)(1)\\ \\textrm{MUL}(n)(\\textrm{FAC}(\\textrm{PRED}(n)))\n",
    "\\end{equation}\n",
    "Instead, because functions in $\\lambda$-Calculus are anonymous, we can write the above correctly using the $\\mathcal{Y}$ combinator as\n",
    "\\begin{eqnarray}\n",
    " \\textrm{FAC} = \\mathcal{Y}( \\lambda f.\\ \\lambda n.\\ \\textrm{Z}(n)(1)\\ \\textrm{MUL}(n)(f(\\textrm{PRED}(n))))\n",
    "\\end{eqnarray}\n"
   ]
  },
  {
   "cell_type": "code",
   "execution_count": null,
   "metadata": {},
   "outputs": [],
   "source": []
  }
 ],
 "metadata": {
  "kernelspec": {
   "display_name": "Python 3",
   "language": "python",
   "name": "python3"
  },
  "language_info": {
   "codemirror_mode": {
    "name": "ipython",
    "version": 3
   },
   "file_extension": ".py",
   "mimetype": "text/x-python",
   "name": "python",
   "nbconvert_exporter": "python",
   "pygments_lexer": "ipython3",
   "version": "3.5.2"
  }
 },
 "nbformat": 4,
 "nbformat_minor": 2
}
