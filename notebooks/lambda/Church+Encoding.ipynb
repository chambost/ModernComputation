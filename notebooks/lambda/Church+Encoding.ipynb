{
 "cells": [
  {
   "cell_type": "markdown",
   "metadata": {},
   "source": [
    "# Church Encoding\n",
    "Creating the basic functionality in Lambda Calculus using a function-based encoding scheme developed initially by Alonzo Church and later refined by Haskell Curry and others. "
   ]
  },
  {
   "cell_type": "markdown",
   "metadata": {},
   "source": [
    "The initial version of $\\lambda$-Calculus does not have Boolean types, numbers, loops, Boolean operations, if statements or even a concept of zero. The only thing it has is a pure function, a function that has no side effects and only takes a single (unary) input and produces an output. No changes are made else where, such as a terminal output etc. All elements must be built from the ground up by encoding everything into unary, pure functions. "
   ]
  },
  {
   "cell_type": "markdown",
   "metadata": {},
   "source": [
    "## Boolean Algebra\n",
    "We will begin by defining the concepts of true and false and then build the necessary minimal components for Boolean algebra."
   ]
  },
  {
   "cell_type": "code",
   "execution_count": 149,
   "metadata": {
    "collapsed": false
   },
   "outputs": [],
   "source": [
    "from inspect import signature #python 3.3+\n",
    "\n",
    "T = lambda t: lambda f: t\n",
    "F = lambda t: lambda f: f\n",
    "\n",
    "#use annotations to tell what function is returned in verifying the result\n",
    "T.__annotations__['T'] = True\n",
    "F.__annotations__['F'] = False\n",
    "\n",
    "#also can tell by converting to Python bool type, cheating a bit though\n",
    "to_bool = lambda boolean: boolean(True)(False)"
   ]
  },
  {
   "cell_type": "markdown",
   "metadata": {},
   "source": [
    "To verify that this is consistent, let us build AND, OR and NOT functions. The NOT should take a Boolean and toggle its value."
   ]
  },
  {
   "cell_type": "code",
   "execution_count": 150,
   "metadata": {
    "collapsed": true
   },
   "outputs": [],
   "source": [
    "NOT = lambda boolean: boolean(F)(T)"
   ]
  },
  {
   "cell_type": "code",
   "execution_count": 151,
   "metadata": {
    "collapsed": false
   },
   "outputs": [
    {
     "data": {
      "text/plain": [
       "{'T': True}"
      ]
     },
     "execution_count": 151,
     "metadata": {},
     "output_type": "execute_result"
    }
   ],
   "source": [
    "NOT(F).__annotations__"
   ]
  },
  {
   "cell_type": "code",
   "execution_count": 152,
   "metadata": {
    "collapsed": false
   },
   "outputs": [
    {
     "data": {
      "text/plain": [
       "True"
      ]
     },
     "execution_count": 152,
     "metadata": {},
     "output_type": "execute_result"
    }
   ],
   "source": [
    "to_bool(NOT(F))"
   ]
  },
  {
   "cell_type": "markdown",
   "metadata": {},
   "source": [
    "The AND operation should only return True if both arguments are True."
   ]
  },
  {
   "cell_type": "code",
   "execution_count": 153,
   "metadata": {
    "collapsed": true
   },
   "outputs": [],
   "source": [
    "AND = lambda bool1: lambda bool2: bool1(bool2)(F)"
   ]
  },
  {
   "cell_type": "code",
   "execution_count": 154,
   "metadata": {
    "collapsed": false
   },
   "outputs": [
    {
     "data": {
      "text/plain": [
       "{'F': False}"
      ]
     },
     "execution_count": 154,
     "metadata": {},
     "output_type": "execute_result"
    }
   ],
   "source": [
    "AND(T)(F).__annotations__"
   ]
  },
  {
   "cell_type": "markdown",
   "metadata": {},
   "source": [
    "The OR operation should only return True if both or either of the arguments are True."
   ]
  },
  {
   "cell_type": "code",
   "execution_count": 155,
   "metadata": {
    "collapsed": true
   },
   "outputs": [],
   "source": [
    "OR = lambda bool1: lambda bool2: bool1(T)(bool2)"
   ]
  },
  {
   "cell_type": "code",
   "execution_count": 156,
   "metadata": {
    "collapsed": false
   },
   "outputs": [
    {
     "data": {
      "text/plain": [
       "{'T': True}"
      ]
     },
     "execution_count": 156,
     "metadata": {},
     "output_type": "execute_result"
    }
   ],
   "source": [
    "OR(T)(F).__annotations__"
   ]
  },
  {
   "cell_type": "markdown",
   "metadata": {},
   "source": [
    "To do conditional statements or arithmetic we need numbers"
   ]
  },
  {
   "cell_type": "markdown",
   "metadata": {},
   "source": [
    "## Numerals\n",
    "We only have functions to work with, so we represent numbers as the number of times we apply a function to an argument. To represent zero, we apply a function zero times and to represent one we apply the function one time to the argument. The form of the function is not important right now, so using the identity gives us the numbers we want, but using other functions can be useful too."
   ]
  },
  {
   "cell_type": "code",
   "execution_count": 157,
   "metadata": {
    "collapsed": true
   },
   "outputs": [],
   "source": [
    "#identity\n",
    "I = lambda x: x\n",
    "\n",
    "#numerals\n",
    "N0 = lambda f: lambda x: x\n",
    "N1 = lambda f: lambda x: f(x)\n",
    "N2 = lambda f: lambda x: f(f(x))\n",
    "N3 = lambda f: lambda x: f(f(f(x)))"
   ]
  },
  {
   "cell_type": "code",
   "execution_count": 158,
   "metadata": {
    "collapsed": true
   },
   "outputs": [],
   "source": [
    "#use annotations to tell what function is returned in verifying the result\n",
    "I.__annotations__['I'] = \"I\"\n",
    "N0.__annotations__['0'] = 0\n",
    "N1.__annotations__['1'] = 1\n",
    "N2.__annotations__['2'] = 2\n",
    "N3.__annotations__['3'] = 3\n",
    "\n",
    "#also by converting to Python int type by counting function calls\n",
    "#we pass the increment function into the numeral to count the calls\n",
    "to_int = lambda n: n(lambda integer: integer + 1)(0)"
   ]
  },
  {
   "cell_type": "markdown",
   "metadata": {},
   "source": [
    "Now we need to travel between the numbers by count up via succession. To count we need to apply an additional $f$ to our expression for the numeral in question."
   ]
  },
  {
   "cell_type": "code",
   "execution_count": 159,
   "metadata": {
    "collapsed": true
   },
   "outputs": [],
   "source": [
    "S = lambda n: lambda f: lambda x: f(n(f)(x))"
   ]
  },
  {
   "cell_type": "code",
   "execution_count": 160,
   "metadata": {
    "collapsed": true
   },
   "outputs": [],
   "source": [
    "#use annotations to tell what function is returned in verifying the result\n",
    "S.__annotations__['S'] = \"Successor\""
   ]
  },
  {
   "cell_type": "code",
   "execution_count": 161,
   "metadata": {
    "collapsed": false
   },
   "outputs": [
    {
     "data": {
      "text/plain": [
       "{}"
      ]
     },
     "execution_count": 161,
     "metadata": {},
     "output_type": "execute_result"
    }
   ],
   "source": [
    "S(N2).__annotations__"
   ]
  },
  {
   "cell_type": "code",
   "execution_count": 162,
   "metadata": {
    "collapsed": false
   },
   "outputs": [
    {
     "data": {
      "text/plain": [
       "3"
      ]
     },
     "execution_count": 162,
     "metadata": {},
     "output_type": "execute_result"
    }
   ],
   "source": [
    "to_int(S(N2))"
   ]
  },
  {
   "cell_type": "markdown",
   "metadata": {},
   "source": [
    "Now we have numbers we should be able to do addition and multiplication. Addition to $n$ is simply taking the successor function and instead of applying the additional function $f$ one time to get next numeral, we apply it $m$ times to get $n+m$."
   ]
  },
  {
   "cell_type": "code",
   "execution_count": 163,
   "metadata": {
    "collapsed": true
   },
   "outputs": [],
   "source": [
    "ADD = lambda m: lambda n: lambda f: lambda x: m(f)(n(f)(x))"
   ]
  },
  {
   "cell_type": "code",
   "execution_count": 165,
   "metadata": {
    "collapsed": false
   },
   "outputs": [
    {
     "data": {
      "text/plain": [
       "5"
      ]
     },
     "execution_count": 165,
     "metadata": {},
     "output_type": "execute_result"
    }
   ],
   "source": [
    "to_int(ADD(N2)(N3))"
   ]
  },
  {
   "cell_type": "markdown",
   "metadata": {},
   "source": [
    "To multiply, we need to apply the $m$ number of applications of the function $f$ to the numeral $n$. This is equivalent to composition of the numerals $n$ and $m$, and so the MUL function can be writen as the composition combinator."
   ]
  },
  {
   "cell_type": "code",
   "execution_count": 184,
   "metadata": {
    "collapsed": true
   },
   "outputs": [],
   "source": [
    "MUL = lambda m: lambda n: lambda f: lambda x: m(n(f))(x)"
   ]
  },
  {
   "cell_type": "code",
   "execution_count": 185,
   "metadata": {
    "collapsed": false
   },
   "outputs": [
    {
     "data": {
      "text/plain": [
       "6"
      ]
     },
     "execution_count": 185,
     "metadata": {},
     "output_type": "execute_result"
    }
   ],
   "source": [
    "to_int(MUL(N2)(N3))"
   ]
  },
  {
   "cell_type": "code",
   "execution_count": 186,
   "metadata": {
    "collapsed": true
   },
   "outputs": [],
   "source": [
    "MUL = lambda m: lambda n: lambda f: m(n(f))"
   ]
  },
  {
   "cell_type": "code",
   "execution_count": 187,
   "metadata": {
    "collapsed": false
   },
   "outputs": [
    {
     "data": {
      "text/plain": [
       "6"
      ]
     },
     "execution_count": 187,
     "metadata": {},
     "output_type": "execute_result"
    }
   ],
   "source": [
    "to_int(MUL(N2)(N3))"
   ]
  },
  {
   "cell_type": "markdown",
   "metadata": {},
   "source": [
    "Now we can do some conditional statements"
   ]
  },
  {
   "cell_type": "markdown",
   "metadata": {},
   "source": [
    "## Conditional Statements\n",
    "We can do simple checks like if a number is zero, noting that the number zero is actually the identity function. We write the expression so that if we apply a function at all (say $n$ times if $n>0$) it is always false, then when $n=0$, we wont apply it and it can be true."
   ]
  },
  {
   "cell_type": "code",
   "execution_count": 197,
   "metadata": {
    "collapsed": false
   },
   "outputs": [],
   "source": [
    "Z = lambda x: x(lambda x: F)(T)"
   ]
  },
  {
   "cell_type": "code",
   "execution_count": 198,
   "metadata": {
    "collapsed": false
   },
   "outputs": [
    {
     "data": {
      "text/plain": [
       "{'F': False}"
      ]
     },
     "execution_count": 198,
     "metadata": {},
     "output_type": "execute_result"
    }
   ],
   "source": [
    "Z(N2).__annotations__"
   ]
  },
  {
   "cell_type": "code",
   "execution_count": null,
   "metadata": {
    "collapsed": true
   },
   "outputs": [],
   "source": []
  }
 ],
 "metadata": {
  "kernelspec": {
   "display_name": "Python 3",
   "language": "python",
   "name": "python3"
  },
  "language_info": {
   "codemirror_mode": {
    "name": "ipython",
    "version": 3
   },
   "file_extension": ".py",
   "mimetype": "text/x-python",
   "name": "python",
   "nbconvert_exporter": "python",
   "pygments_lexer": "ipython3",
   "version": "3.5.3"
  }
 },
 "nbformat": 4,
 "nbformat_minor": 2
}
